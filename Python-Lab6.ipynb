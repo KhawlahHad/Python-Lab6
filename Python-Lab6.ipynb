{
 "cells": [
  {
   "cell_type": "code",
   "execution_count": 15,
   "id": "95135e01-c16e-4cf3-b994-b2b12d82a4a4",
   "metadata": {},
   "outputs": [
    {
     "name": "stdout",
     "output_type": "stream",
     "text": [
      "139\n"
     ]
    }
   ],
   "source": [
    "myList1 = [5, 4, 17, 19, 30, 2, 7, 10, 45]\n",
    "\n",
    "listSum = sum(myList1)\n",
    "print(listSum)"
   ]
  },
  {
   "cell_type": "code",
   "execution_count": 16,
   "id": "b6594cf9-a537-4380-ad3e-56482da5f2b3",
   "metadata": {},
   "outputs": [
    {
     "name": "stdout",
     "output_type": "stream",
     "text": [
      "45\n"
     ]
    }
   ],
   "source": [
    "maxValue = max(myList1)\n",
    "print(maxValue)"
   ]
  },
  {
   "cell_type": "code",
   "execution_count": 17,
   "id": "907f13e1-90da-46cb-a9b9-f9b273b11a03",
   "metadata": {},
   "outputs": [
    {
     "name": "stdout",
     "output_type": "stream",
     "text": [
      "[4, 30, 2, 10]\n"
     ]
    }
   ],
   "source": [
    "evenList = [i for i in myList1 if i % 2 == 0 ]\n",
    "print(evenList)"
   ]
  },
  {
   "cell_type": "code",
   "execution_count": 18,
   "id": "3dc3c6db-333c-4c75-a45b-88f9e7e4f837",
   "metadata": {},
   "outputs": [
    {
     "name": "stdout",
     "output_type": "stream",
     "text": [
      "[5, 4, 17, 19, 30]\n"
     ]
    }
   ],
   "source": [
    "slicedList = myList1[0:5]\n",
    "print(slicedList)"
   ]
  }
 ],
 "metadata": {
  "kernelspec": {
   "display_name": "Python 3 (ipykernel)",
   "language": "python",
   "name": "python3"
  },
  "language_info": {
   "codemirror_mode": {
    "name": "ipython",
    "version": 3
   },
   "file_extension": ".py",
   "mimetype": "text/x-python",
   "name": "python",
   "nbconvert_exporter": "python",
   "pygments_lexer": "ipython3",
   "version": "3.10.11"
  }
 },
 "nbformat": 4,
 "nbformat_minor": 5
}
